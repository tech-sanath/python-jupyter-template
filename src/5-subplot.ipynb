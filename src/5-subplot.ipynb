{
 "cells": [
  {
   "cell_type": "markdown",
   "metadata": {},
   "source": [
    "### Exercise 5: Subplot Layout"
   ]
  },
  {
   "cell_type": "code",
   "execution_count": null,
   "metadata": {},
   "outputs": [],
   "source": [
    "# TASK: Create a 2x2 subplot layout.\n",
    "# Plot a line chart in the first subplot, a bar chart in the second, a scatter plot in the third, and a pie chart in the fourth.\n",
    "import matplotlib.pyplot as plt\n",
    "import numpy as np\n",
    "\n",
    "# Data for plots\n",
    "x = np.arange(0, 11, 1)\n",
    "y = x**2\n",
    "\n",
    "categories = ['A', 'B', 'C', 'D']\n",
    "values = [5, 7, 3, 9]\n",
    "colors = ['red', 'blue', 'green', 'purple']\n",
    "\n",
    "x_scatter = [1, 2, 3, 4, 5]\n",
    "y_scatter = [2, 4, 6, 8, 10]\n",
    "\n",
    "labels = ['Python', 'Java', 'C++', 'JavaScript']\n",
    "sizes = [40, 25, 20, 15]\n",
    "\n",
    "# Create subplots\n",
    "fig, axes = plt.subplots(2, 2, figsize=(10, 10))\n",
    "\n",
    "# Line Plot\n",
    "axes[0, 0].plot(x, y, marker='o', linestyle='-', color='b')\n",
    "axes[0, 0].set_title('Line Plot')\n",
    "\n",
    "# Bar Chart\n",
    "axes[0, 1].bar(categories, values, color=colors)\n",
    "axes[0, 1].set_title('Bar Chart')\n",
    "\n",
    "# Scatter Plot\n",
    "axes[1, 0].scatter(x_scatter, y_scatter, color='orange')\n",
    "axes[1, 0].set_title('Scatter Plot')\n",
    "\n",
    "# Pie Chart\n",
    "axes[1, 1].pie(sizes, labels=labels, autopct='%1.1f%%', startangle=140, colors=colors)\n",
    "axes[1, 1].set_title('Pie Chart')\n",
    "\n",
    "# Adjust layout\n",
    "plt.tight_layout()\n",
    "plt.show()\n"
   ]
  }
 ],
 "metadata": {
  "language_info": {
   "name": "python"
  }
 },
 "nbformat": 4,
 "nbformat_minor": 2
}
